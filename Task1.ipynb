{
 "cells": [
  {
   "cell_type": "code",
   "execution_count": 26,
   "metadata": {},
   "outputs": [],
   "source": [
    "import pandas as pd"
   ]
  },
  {
   "cell_type": "code",
   "execution_count": 27,
   "metadata": {},
   "outputs": [],
   "source": [
    "data = pd.read_csv (r'/Users/lovelbangura/Desktop/Project/10_Academy/Week1/Week1_challenge_data_source(CSV).csv')"
   ]
  },
  {
   "cell_type": "code",
   "execution_count": 84,
   "metadata": {},
   "outputs": [],
   "source": [
    "df = pd.DataFrame(data, columns= ['bearer id',\n",
    "'Start',\n",
    "'IMEI',\n",
    "'Dur. (ms).1',\n",
    "'Handset Manufacturer',\n",
    "'Handset Type',])\n"
   ]
  },
  {
   "cell_type": "code",
   "execution_count": 85,
   "metadata": {},
   "outputs": [
    {
     "data": {
      "text/plain": [
       "['Huawei B528S-23A',\n",
       " 'Apple iPhone 6S (A1688)',\n",
       " 'Apple iPhone 6 (A1586)',\n",
       " 'undefined',\n",
       " 'Apple iPhone 7 (A1778)',\n",
       " 'Apple iPhone Se (A1723)',\n",
       " 'Apple iPhone 8 (A1905)',\n",
       " 'Apple iPhone Xr (A2105)',\n",
       " 'Samsung Galaxy S8 (Sm-G950F)',\n",
       " 'Apple iPhone X (A1901)']"
      ]
     },
     "execution_count": 85,
     "metadata": {},
     "output_type": "execute_result"
    }
   ],
   "source": [
    "# n =10\n",
    "# headset_used_by_customers = df['Handset Type'].value_counts()[:n].index.tolist()\n",
    " \n",
    "def most_used( name, number ) -> pd.DataFrame:\n",
    "        \"\"\"\n",
    "           Funtions the count the frequence of occurence\n",
    "        \"\"\"\n",
    "        result = df[name].value_counts()[:number].index.tolist()\n",
    "        return result\n",
    "    \n",
    "headset_used_by_customers= most_used('Handset Type', 10)\n",
    "headset_used_by_customers"
   ]
  },
  {
   "cell_type": "code",
   "execution_count": 86,
   "metadata": {},
   "outputs": [
    {
     "data": {
      "text/plain": [
       "['Apple', 'Samsung', 'Huawei']"
      ]
     },
     "execution_count": 86,
     "metadata": {},
     "output_type": "execute_result"
    }
   ],
   "source": [
    "# n=3\n",
    "# top_3_handset_manufacturers = df['Handset Manufacturer'].value_counts()[:n].index.tolist()\n",
    "# top_3_handset_manufacturers\n",
    "top_3_handset_manufacturers = most_used('Handset Manufacturer', 3)\n",
    "top_3_handset_manufacturers"
   ]
  },
  {
   "cell_type": "markdown",
   "metadata": {},
   "source": [
    "# Apple Top 5 Headset"
   ]
  },
  {
   "cell_type": "code",
   "execution_count": 98,
   "metadata": {},
   "outputs": [
    {
     "data": {
      "text/plain": [
       "Handset Manufacturer  Handset Type           \n",
       "Apple                 Apple iPhone 6S (A1688)    9419\n",
       "                      Apple iPhone 6 (A1586)     9023\n",
       "                      Apple iPhone 7 (A1778)     6326\n",
       "                      Apple iPhone Se (A1723)    5187\n",
       "                      Apple iPhone 8 (A1905)     4993\n",
       "dtype: int64"
      ]
     },
     "execution_count": 98,
     "metadata": {},
     "output_type": "execute_result"
    }
   ],
   "source": [
    "top =5\n",
    "all_apple = df.loc[df['Handset Manufacturer'] == 'Apple']\n",
    "\n",
    "\n",
    "only_apple = pd.DataFrame(all_apple, columns= [\n",
    "'Handset Manufacturer',\n",
    "'Handset Type',])\n",
    "\n",
    "only_apple.value_counts()[:top]\n"
   ]
  },
  {
   "cell_type": "markdown",
   "metadata": {},
   "source": [
    "# Samsung Top 5 Headset"
   ]
  },
  {
   "cell_type": "code",
   "execution_count": 101,
   "metadata": {},
   "outputs": [
    {
     "data": {
      "text/plain": [
       "Handset Manufacturer  Handset Type                \n",
       "Samsung               Samsung Galaxy S8 (Sm-G950F)    4520\n",
       "                      Samsung Galaxy A5 Sm-A520F      3724\n",
       "                      Samsung Galaxy J5 (Sm-J530)     3696\n",
       "                      Samsung Galaxy J3 (Sm-J330)     3484\n",
       "                      Samsung Galaxy S7 (Sm-G930X)    3199\n",
       "dtype: int64"
      ]
     },
     "execution_count": 101,
     "metadata": {},
     "output_type": "execute_result"
    }
   ],
   "source": [
    "top =5\n",
    "all_Samsung = df.loc[df['Handset Manufacturer'] == 'Samsung']\n",
    "\n",
    "\n",
    "only_Samsung = pd.DataFrame(all_Samsung, columns= [\n",
    "'Handset Manufacturer',\n",
    "'Handset Type',])\n",
    "\n",
    "only_Samsung.value_counts()[:top]"
   ]
  },
  {
   "cell_type": "code",
   "execution_count": null,
   "metadata": {},
   "outputs": [],
   "source": []
  }
 ],
 "metadata": {
  "kernelspec": {
   "display_name": "Python 3",
   "language": "python",
   "name": "python3"
  },
  "language_info": {
   "codemirror_mode": {
    "name": "ipython",
    "version": 3
   },
   "file_extension": ".py",
   "mimetype": "text/x-python",
   "name": "python",
   "nbconvert_exporter": "python",
   "pygments_lexer": "ipython3",
   "version": "3.8.8"
  }
 },
 "nbformat": 4,
 "nbformat_minor": 4
}

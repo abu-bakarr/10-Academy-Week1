{
 "cells": [
  {
   "cell_type": "code",
   "execution_count": 1,
   "metadata": {},
   "outputs": [],
   "source": [
    "import pandas as pd"
   ]
  },
  {
   "cell_type": "code",
   "execution_count": 8,
   "metadata": {},
   "outputs": [],
   "source": [
    "data = pd.read_csv (r'/Users/lovelbangura/Desktop/Project/10_Academy/Week1/Week1_challenge_data_source(CSV).csv')"
   ]
  },
  {
   "cell_type": "code",
   "execution_count": 18,
   "metadata": {},
   "outputs": [],
   "source": [
    "df = pd.DataFrame(data, columns= ['bearer id',\n",
    "'Start',\n",
    "'IMEI',\n",
    "'Dur. (ms).1',\n",
    "'Handset Manufacturer',\n",
    "'Handset Type',])\n"
   ]
  },
  {
   "cell_type": "code",
   "execution_count": 21,
   "metadata": {},
   "outputs": [
    {
     "data": {
      "text/plain": [
       "Huawei B528S-23A                            19752\n",
       "Apple iPhone 6S (A1688)                      9419\n",
       "Apple iPhone 6 (A1586)                       9023\n",
       "undefined                                    8987\n",
       "Apple iPhone 7 (A1778)                       6326\n",
       "                                            ...  \n",
       "Logicom Sa L-Ement 551                          1\n",
       "Samsung Gt-I9105P                               1\n",
       "Fully Holdings (. Oukitel C2                    1\n",
       "Lenovo Moto Z Force (2Nd Gen) Ge12072245        1\n",
       "Gotron (Hk) Elec. Power 5                       1\n",
       "Name: Handset Type, Length: 1396, dtype: int64"
      ]
     },
     "execution_count": 21,
     "metadata": {},
     "output_type": "execute_result"
    }
   ],
   "source": [
    "n =10\n",
    "headset_used_by_customers = df['Handset Type'].value_counts()\n",
    "headset_used_by_customers"
   ]
  },
  {
   "cell_type": "code",
   "execution_count": null,
   "metadata": {},
   "outputs": [],
   "source": []
  }
 ],
 "metadata": {
  "kernelspec": {
   "display_name": "Python 3",
   "language": "python",
   "name": "python3"
  },
  "language_info": {
   "codemirror_mode": {
    "name": "ipython",
    "version": 3
   },
   "file_extension": ".py",
   "mimetype": "text/x-python",
   "name": "python",
   "nbconvert_exporter": "python",
   "pygments_lexer": "ipython3",
   "version": "3.8.8"
  }
 },
 "nbformat": 4,
 "nbformat_minor": 4
}

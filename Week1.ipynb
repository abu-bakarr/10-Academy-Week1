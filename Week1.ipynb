{
 "cells": [
  {
   "cell_type": "code",
   "execution_count": 3,
   "metadata": {},
   "outputs": [],
   "source": [
    "import pandas as pd\n",
    "import matplotlib.pyplot as plt\n",
    "import numpy as np\n",
    "import seaborn as sns"
   ]
  },
  {
   "cell_type": "code",
   "execution_count": 15,
   "metadata": {},
   "outputs": [],
   "source": [
    "data = pd.read_csv (r'/Users/lovelbangura/Desktop/Project/10_Academy/Week1/Week1_challenge_data_source(CSV).csv')"
   ]
  },
  {
   "cell_type": "code",
   "execution_count": 16,
   "metadata": {},
   "outputs": [],
   "source": [
    "df = pd.DataFrame(data, columns= ['bearer id',\n",
    "'Start',\n",
    "'IMEI',\n",
    "'Dur. (ms).1',\n",
    "'Handset Manufacturer',\n",
    "'Handset Type',])\n",
    "\n"
   ]
  },
  {
   "cell_type": "code",
   "execution_count": 14,
   "metadata": {},
   "outputs": [
    {
     "data": {
      "text/html": [
       "<div>\n",
       "<style scoped>\n",
       "    .dataframe tbody tr th:only-of-type {\n",
       "        vertical-align: middle;\n",
       "    }\n",
       "\n",
       "    .dataframe tbody tr th {\n",
       "        vertical-align: top;\n",
       "    }\n",
       "\n",
       "    .dataframe thead th {\n",
       "        text-align: right;\n",
       "    }\n",
       "</style>\n",
       "<table border=\"1\" class=\"dataframe\">\n",
       "  <thead>\n",
       "    <tr style=\"text-align: right;\">\n",
       "      <th></th>\n",
       "      <th>bearer id</th>\n",
       "      <th>IMEI</th>\n",
       "      <th>Dur. (ms).1</th>\n",
       "    </tr>\n",
       "  </thead>\n",
       "  <tbody>\n",
       "    <tr>\n",
       "      <th>count</th>\n",
       "      <td>0.0</td>\n",
       "      <td>1.494290e+05</td>\n",
       "      <td>1.500000e+05</td>\n",
       "    </tr>\n",
       "    <tr>\n",
       "      <th>mean</th>\n",
       "      <td>NaN</td>\n",
       "      <td>4.847455e+13</td>\n",
       "      <td>1.046091e+08</td>\n",
       "    </tr>\n",
       "    <tr>\n",
       "      <th>std</th>\n",
       "      <td>NaN</td>\n",
       "      <td>2.241637e+13</td>\n",
       "      <td>8.103761e+07</td>\n",
       "    </tr>\n",
       "    <tr>\n",
       "      <th>min</th>\n",
       "      <td>NaN</td>\n",
       "      <td>4.400152e+11</td>\n",
       "      <td>7.142988e+06</td>\n",
       "    </tr>\n",
       "    <tr>\n",
       "      <th>25%</th>\n",
       "      <td>NaN</td>\n",
       "      <td>3.546071e+13</td>\n",
       "      <td>5.744079e+07</td>\n",
       "    </tr>\n",
       "    <tr>\n",
       "      <th>50%</th>\n",
       "      <td>NaN</td>\n",
       "      <td>3.572201e+13</td>\n",
       "      <td>8.639998e+07</td>\n",
       "    </tr>\n",
       "    <tr>\n",
       "      <th>75%</th>\n",
       "      <td>NaN</td>\n",
       "      <td>8.611970e+13</td>\n",
       "      <td>1.324308e+08</td>\n",
       "    </tr>\n",
       "    <tr>\n",
       "      <th>max</th>\n",
       "      <td>NaN</td>\n",
       "      <td>9.900120e+13</td>\n",
       "      <td>1.859336e+09</td>\n",
       "    </tr>\n",
       "  </tbody>\n",
       "</table>\n",
       "</div>"
      ],
      "text/plain": [
       "       bearer id          IMEI   Dur. (ms).1\n",
       "count        0.0  1.494290e+05  1.500000e+05\n",
       "mean         NaN  4.847455e+13  1.046091e+08\n",
       "std          NaN  2.241637e+13  8.103761e+07\n",
       "min          NaN  4.400152e+11  7.142988e+06\n",
       "25%          NaN  3.546071e+13  5.744079e+07\n",
       "50%          NaN  3.572201e+13  8.639998e+07\n",
       "75%          NaN  8.611970e+13  1.324308e+08\n",
       "max          NaN  9.900120e+13  1.859336e+09"
      ]
     },
     "execution_count": 14,
     "metadata": {},
     "output_type": "execute_result"
    }
   ],
   "source": [
    "df.describe()"
   ]
  },
  {
   "cell_type": "code",
   "execution_count": 16,
   "metadata": {},
   "outputs": [
    {
     "data": {
      "text/plain": [
       "['Huawei B528S-23A',\n",
       " 'Apple iPhone 6S (A1688)',\n",
       " 'Apple iPhone 6 (A1586)',\n",
       " 'undefined',\n",
       " 'Apple iPhone 7 (A1778)',\n",
       " 'Apple iPhone Se (A1723)',\n",
       " 'Apple iPhone 8 (A1905)',\n",
       " 'Apple iPhone Xr (A2105)',\n",
       " 'Samsung Galaxy S8 (Sm-G950F)',\n",
       " 'Apple iPhone X (A1901)']"
      ]
     },
     "execution_count": 16,
     "metadata": {},
     "output_type": "execute_result"
    }
   ],
   "source": [
    "# n =10\n",
    "# headset_used_by_customers = df['Handset Type'].value_counts()[:n].index.tolist()\n",
    " \n",
    "def most_used( name, number ) -> pd.DataFrame:\n",
    "        \"\"\"\n",
    "           Funtions the count the frequence of occurence\n",
    "        \"\"\"\n",
    "        result = df[name].value_counts()[:number].index.tolist()\n",
    "        return result\n",
    "    \n",
    "headset_used_by_customers= most_used('Handset Type', 10)\n",
    "headset_used_by_customers"
   ]
  },
  {
   "cell_type": "code",
   "execution_count": 17,
   "metadata": {},
   "outputs": [
    {
     "data": {
      "text/plain": [
       "['Apple', 'Samsung', 'Huawei']"
      ]
     },
     "execution_count": 17,
     "metadata": {},
     "output_type": "execute_result"
    }
   ],
   "source": [
    "# n=3\n",
    "# top_3_handset_manufacturers = df['Handset Manufacturer'].value_counts()[:n].index.tolist()\n",
    "# top_3_handset_manufacturers\n",
    "top_3_handset_manufacturers = most_used('Handset Manufacturer', 3)\n",
    "top_3_handset_manufacturers"
   ]
  },
  {
   "cell_type": "markdown",
   "metadata": {},
   "source": [
    "# Apple Top 5 Headset"
   ]
  },
  {
   "cell_type": "code",
   "execution_count": 18,
   "metadata": {},
   "outputs": [
    {
     "data": {
      "text/plain": [
       "Handset Manufacturer  Handset Type           \n",
       "Apple                 Apple iPhone 6S (A1688)    9419\n",
       "                      Apple iPhone 6 (A1586)     9023\n",
       "                      Apple iPhone 7 (A1778)     6326\n",
       "                      Apple iPhone Se (A1723)    5187\n",
       "                      Apple iPhone 8 (A1905)     4993\n",
       "dtype: int64"
      ]
     },
     "execution_count": 18,
     "metadata": {},
     "output_type": "execute_result"
    }
   ],
   "source": [
    "top =5\n",
    "all_apple = df.loc[df['Handset Manufacturer'] == 'Apple']\n",
    "\n",
    "\n",
    "only_apple = pd.DataFrame(all_apple, columns= [\n",
    "'Handset Manufacturer',\n",
    "'Handset Type',])\n",
    "\n",
    "only_apple.value_counts()[:top]\n"
   ]
  },
  {
   "cell_type": "markdown",
   "metadata": {},
   "source": [
    "# Samsung Top 5 Headset"
   ]
  },
  {
   "cell_type": "code",
   "execution_count": 19,
   "metadata": {},
   "outputs": [
    {
     "data": {
      "text/plain": [
       "Handset Manufacturer  Handset Type                \n",
       "Samsung               Samsung Galaxy S8 (Sm-G950F)    4520\n",
       "                      Samsung Galaxy A5 Sm-A520F      3724\n",
       "                      Samsung Galaxy J5 (Sm-J530)     3696\n",
       "                      Samsung Galaxy J3 (Sm-J330)     3484\n",
       "                      Samsung Galaxy S7 (Sm-G930X)    3199\n",
       "dtype: int64"
      ]
     },
     "execution_count": 19,
     "metadata": {},
     "output_type": "execute_result"
    }
   ],
   "source": [
    "top =5\n",
    "all_Samsung = df.loc[df['Handset Manufacturer'] == 'Samsung']\n",
    "\n",
    "\n",
    "only_Samsung = pd.DataFrame(all_Samsung, columns= [\n",
    "'Handset Manufacturer',\n",
    "'Handset Type',])\n",
    "\n",
    "only_Samsung.value_counts()[:top]"
   ]
  },
  {
   "cell_type": "markdown",
   "metadata": {},
   "source": [
    "# Huawei Top 5 Headset"
   ]
  },
  {
   "cell_type": "code",
   "execution_count": 20,
   "metadata": {},
   "outputs": [
    {
     "data": {
      "text/plain": [
       "Handset Manufacturer  Handset Type                  \n",
       "Huawei                Huawei B528S-23A                  19752\n",
       "                      Huawei E5180                       2079\n",
       "                      Huawei P20 Lite Huawei Nova 3E     2021\n",
       "                      Huawei P20                         1480\n",
       "                      Huawei Y6 2018                      997\n",
       "dtype: int64"
      ]
     },
     "execution_count": 20,
     "metadata": {},
     "output_type": "execute_result"
    }
   ],
   "source": [
    "top =5\n",
    "all_Huawei = df.loc[df['Handset Manufacturer'] == 'Huawei']\n",
    "\n",
    "\n",
    "only_Huawei = pd.DataFrame(all_Huawei, columns= [\n",
    "'Handset Manufacturer',\n",
    "'Handset Type',])\n",
    "\n",
    "only_Huawei.value_counts()[:top]"
   ]
  },
  {
   "cell_type": "code",
   "execution_count": null,
   "metadata": {},
   "outputs": [],
   "source": []
  },
  {
   "cell_type": "markdown",
   "metadata": {},
   "source": [
    "# Total Upload"
   ]
  },
  {
   "cell_type": "code",
   "execution_count": 21,
   "metadata": {},
   "outputs": [
    {
     "data": {
      "text/plain": [
       "6168180943816.0"
      ]
     },
     "execution_count": 21,
     "metadata": {},
     "output_type": "execute_result"
    }
   ],
   "source": [
    "df = pd.DataFrame(data, columns= ['bearer id',\n",
    "'Nb of sec with 125000B < Vol DL',\n",
    "'Nb of sec with 1250B < Vol UL < 6250B',\n",
    "'Nb of sec with 31250B < Vol DL < 125000B',\n",
    "'Nb of sec with 37500B < Vol UL',\n",
    "'Nb of sec with 6250B < Vol DL < 31250B',\n",
    "'Nb of sec with 6250B < Vol UL < 37500B',\n",
    "'Nb of sec with Vol DL < 6250B',\n",
    "'Nb of sec with Vol UL < 1250B',\n",
    "'Social Media DL (Bytes)',\n",
    "'Social Media UL (Bytes)',\n",
    "'YouTube DL (Bytes)',\n",
    "'YouTube UL (Bytes)',\n",
    "'Netflix DL (Bytes)',\n",
    "'Netflix UL (Bytes)',\n",
    "'Google DL (Bytes)',\n",
    "'Google UL (Bytes)',\n",
    "'Email DL (Bytes)',\n",
    "'Email UL (Bytes)',\n",
    "'Gaming DL (Bytes)',\n",
    "'Gaming UL (Bytes)',\n",
    "'Other DL',\n",
    "'Other UL',\n",
    "'Total DL (Bytes)',\n",
    "'Total UL (Bytes)'])\n",
    "\n",
    "total_upload = df['Total UL (Bytes)'].sum()\n",
    "total_upload"
   ]
  },
  {
   "cell_type": "markdown",
   "metadata": {},
   "source": [
    "# Total Download"
   ]
  },
  {
   "cell_type": "code",
   "execution_count": 22,
   "metadata": {},
   "outputs": [
    {
     "data": {
      "text/plain": [
       "68196514511845.0"
      ]
     },
     "execution_count": 22,
     "metadata": {},
     "output_type": "execute_result"
    }
   ],
   "source": [
    "total_download = df['Total DL (Bytes)'].sum()\n",
    "total_download"
   ]
  },
  {
   "cell_type": "markdown",
   "metadata": {},
   "source": [
    "# Total data volume (in Bytes) during this session for each application"
   ]
  },
  {
   "cell_type": "code",
   "execution_count": 23,
   "metadata": {},
   "outputs": [
    {
     "data": {
      "text/plain": [
       "274239359454.20804"
      ]
     },
     "execution_count": 23,
     "metadata": {},
     "output_type": "execute_result"
    }
   ],
   "source": [
    "social_media_totl_volume = df['Social Media DL (Bytes)'].sum() + df['Social Media UL (Bytes)'].sum()\n",
    "social_media_totl_volume"
   ]
  },
  {
   "cell_type": "code",
   "execution_count": 24,
   "metadata": {},
   "outputs": [
    {
     "data": {
      "text/plain": [
       "0.0"
      ]
     },
     "execution_count": 24,
     "metadata": {},
     "output_type": "execute_result"
    }
   ],
   "source": [
    "youtube_totl_volume = df['YouTube DL (Bytes)'].sum() + df['YouTube UL (Bytes)'].sum()\n",
    "youtube_totl_volume"
   ]
  },
  {
   "cell_type": "code",
   "execution_count": 25,
   "metadata": {},
   "outputs": [
    {
     "data": {
      "text/plain": [
       "3394313609363.538"
      ]
     },
     "execution_count": 25,
     "metadata": {},
     "output_type": "execute_result"
    }
   ],
   "source": [
    "netflix_totl_volume = df['Netflix DL (Bytes)'].sum() + df['Netflix UL (Bytes)'].sum()\n",
    "netflix_totl_volume"
   ]
  },
  {
   "cell_type": "code",
   "execution_count": 26,
   "metadata": {},
   "outputs": [
    {
     "data": {
      "text/plain": [
       "1171101989130.5454"
      ]
     },
     "execution_count": 26,
     "metadata": {},
     "output_type": "execute_result"
    }
   ],
   "source": [
    "google_total_volume = df['Google DL (Bytes)'].sum() + df['Google UL (Bytes)'].sum()\n",
    "google_total_volume"
   ]
  },
  {
   "cell_type": "code",
   "execution_count": 27,
   "metadata": {},
   "outputs": [
    {
     "data": {
      "text/plain": [
       "338867605596.30994"
      ]
     },
     "execution_count": 27,
     "metadata": {},
     "output_type": "execute_result"
    }
   ],
   "source": [
    "email_total_volume = df['Email DL (Bytes)'].sum() + df['Email UL (Bytes)'].sum()\n",
    "email_total_volume"
   ]
  },
  {
   "cell_type": "code",
   "execution_count": 33,
   "metadata": {},
   "outputs": [
    {
     "data": {
      "text/plain": [
       "338867605596.30994"
      ]
     },
     "execution_count": 33,
     "metadata": {},
     "output_type": "execute_result"
    }
   ],
   "source": [
    "gaming_total_volume = df['Sum'] = df['Email DL (Bytes)'].sum() + df['Email UL (Bytes)'].sum()\n",
    "gaming_total_volume"
   ]
  },
  {
   "cell_type": "code",
   "execution_count": 34,
   "metadata": {},
   "outputs": [
    {
     "data": {
      "text/plain": [
       "0.0"
      ]
     },
     "execution_count": 34,
     "metadata": {},
     "output_type": "execute_result"
    }
   ],
   "source": [
    "other_total_volume = df['Other DL'].sum() + df['Other UL'].sum()\n",
    "other_total_volume"
   ]
  },
  {
   "cell_type": "code",
   "execution_count": 35,
   "metadata": {},
   "outputs": [
    {
     "data": {
      "text/html": [
       "<div>\n",
       "<style scoped>\n",
       "    .dataframe tbody tr th:only-of-type {\n",
       "        vertical-align: middle;\n",
       "    }\n",
       "\n",
       "    .dataframe tbody tr th {\n",
       "        vertical-align: top;\n",
       "    }\n",
       "\n",
       "    .dataframe thead th {\n",
       "        text-align: right;\n",
       "    }\n",
       "</style>\n",
       "<table border=\"1\" class=\"dataframe\">\n",
       "  <thead>\n",
       "    <tr style=\"text-align: right;\">\n",
       "      <th></th>\n",
       "      <th>Bearer Id</th>\n",
       "      <th>Start ms</th>\n",
       "      <th>End ms</th>\n",
       "      <th>Dur. (ms)</th>\n",
       "      <th>IMSI</th>\n",
       "      <th>MSISDN/Number</th>\n",
       "      <th>IMEI</th>\n",
       "      <th>Avg RTT DL (ms)</th>\n",
       "      <th>Avg RTT UL (ms)</th>\n",
       "      <th>Avg Bearer TP DL (kbps)</th>\n",
       "      <th>...</th>\n",
       "      <th>Youtube DL (Bytes)</th>\n",
       "      <th>Youtube UL (Bytes)</th>\n",
       "      <th>Netflix DL (Bytes)</th>\n",
       "      <th>Netflix UL (Bytes)</th>\n",
       "      <th>Gaming DL (Bytes)</th>\n",
       "      <th>Gaming UL (Bytes)</th>\n",
       "      <th>Other DL (Bytes)</th>\n",
       "      <th>Other UL (Bytes)</th>\n",
       "      <th>Total UL (Bytes)</th>\n",
       "      <th>Total DL (Bytes)</th>\n",
       "    </tr>\n",
       "  </thead>\n",
       "  <tbody>\n",
       "    <tr>\n",
       "      <th>count</th>\n",
       "      <td>1.490100e+05</td>\n",
       "      <td>150000.000000</td>\n",
       "      <td>150000.000000</td>\n",
       "      <td>1.500000e+05</td>\n",
       "      <td>1.494310e+05</td>\n",
       "      <td>1.489350e+05</td>\n",
       "      <td>1.494290e+05</td>\n",
       "      <td>122172.000000</td>\n",
       "      <td>122189.000000</td>\n",
       "      <td>150000.000000</td>\n",
       "      <td>...</td>\n",
       "      <td>1.500010e+05</td>\n",
       "      <td>1.500010e+05</td>\n",
       "      <td>1.500010e+05</td>\n",
       "      <td>1.500010e+05</td>\n",
       "      <td>1.500010e+05</td>\n",
       "      <td>1.500010e+05</td>\n",
       "      <td>1.500010e+05</td>\n",
       "      <td>1.500010e+05</td>\n",
       "      <td>1.500000e+05</td>\n",
       "      <td>1.500000e+05</td>\n",
       "    </tr>\n",
       "    <tr>\n",
       "      <th>mean</th>\n",
       "      <td>1.013887e+19</td>\n",
       "      <td>499.188200</td>\n",
       "      <td>498.800880</td>\n",
       "      <td>1.046086e+05</td>\n",
       "      <td>2.082016e+14</td>\n",
       "      <td>4.188282e+10</td>\n",
       "      <td>4.847455e+13</td>\n",
       "      <td>109.795706</td>\n",
       "      <td>17.662883</td>\n",
       "      <td>13300.045927</td>\n",
       "      <td>...</td>\n",
       "      <td>1.163407e+07</td>\n",
       "      <td>1.100941e+07</td>\n",
       "      <td>1.162685e+07</td>\n",
       "      <td>1.100175e+07</td>\n",
       "      <td>4.220447e+08</td>\n",
       "      <td>8.288398e+06</td>\n",
       "      <td>4.211005e+08</td>\n",
       "      <td>8.264799e+06</td>\n",
       "      <td>4.112121e+07</td>\n",
       "      <td>4.546434e+08</td>\n",
       "    </tr>\n",
       "    <tr>\n",
       "      <th>std</th>\n",
       "      <td>2.893173e+18</td>\n",
       "      <td>288.611834</td>\n",
       "      <td>288.097653</td>\n",
       "      <td>8.103762e+04</td>\n",
       "      <td>2.148809e+10</td>\n",
       "      <td>2.447443e+12</td>\n",
       "      <td>2.241637e+13</td>\n",
       "      <td>619.782739</td>\n",
       "      <td>84.793524</td>\n",
       "      <td>23971.878541</td>\n",
       "      <td>...</td>\n",
       "      <td>6.710569e+06</td>\n",
       "      <td>6.345423e+06</td>\n",
       "      <td>6.725218e+06</td>\n",
       "      <td>6.359490e+06</td>\n",
       "      <td>2.439675e+08</td>\n",
       "      <td>4.782700e+06</td>\n",
       "      <td>2.432050e+08</td>\n",
       "      <td>4.769004e+06</td>\n",
       "      <td>1.127639e+07</td>\n",
       "      <td>2.441429e+08</td>\n",
       "    </tr>\n",
       "    <tr>\n",
       "      <th>min</th>\n",
       "      <td>6.917538e+18</td>\n",
       "      <td>0.000000</td>\n",
       "      <td>0.000000</td>\n",
       "      <td>7.142000e+03</td>\n",
       "      <td>2.040471e+14</td>\n",
       "      <td>3.360100e+10</td>\n",
       "      <td>4.400152e+11</td>\n",
       "      <td>0.000000</td>\n",
       "      <td>0.000000</td>\n",
       "      <td>0.000000</td>\n",
       "      <td>...</td>\n",
       "      <td>5.300000e+01</td>\n",
       "      <td>1.050000e+02</td>\n",
       "      <td>4.200000e+01</td>\n",
       "      <td>3.500000e+01</td>\n",
       "      <td>2.516000e+03</td>\n",
       "      <td>5.900000e+01</td>\n",
       "      <td>3.290000e+03</td>\n",
       "      <td>1.480000e+02</td>\n",
       "      <td>2.866892e+06</td>\n",
       "      <td>7.114041e+06</td>\n",
       "    </tr>\n",
       "    <tr>\n",
       "      <th>25%</th>\n",
       "      <td>7.349883e+18</td>\n",
       "      <td>250.000000</td>\n",
       "      <td>251.000000</td>\n",
       "      <td>5.744050e+04</td>\n",
       "      <td>2.082014e+14</td>\n",
       "      <td>3.365130e+10</td>\n",
       "      <td>3.546071e+13</td>\n",
       "      <td>32.000000</td>\n",
       "      <td>2.000000</td>\n",
       "      <td>43.000000</td>\n",
       "      <td>...</td>\n",
       "      <td>5.833501e+06</td>\n",
       "      <td>5.517965e+06</td>\n",
       "      <td>5.777156e+06</td>\n",
       "      <td>5.475981e+06</td>\n",
       "      <td>2.104733e+08</td>\n",
       "      <td>4.128476e+06</td>\n",
       "      <td>2.101869e+08</td>\n",
       "      <td>4.145943e+06</td>\n",
       "      <td>3.322201e+07</td>\n",
       "      <td>2.431068e+08</td>\n",
       "    </tr>\n",
       "    <tr>\n",
       "      <th>50%</th>\n",
       "      <td>7.349883e+18</td>\n",
       "      <td>499.000000</td>\n",
       "      <td>500.000000</td>\n",
       "      <td>8.639900e+04</td>\n",
       "      <td>2.082015e+14</td>\n",
       "      <td>3.366371e+10</td>\n",
       "      <td>3.572201e+13</td>\n",
       "      <td>45.000000</td>\n",
       "      <td>5.000000</td>\n",
       "      <td>63.000000</td>\n",
       "      <td>...</td>\n",
       "      <td>1.161602e+07</td>\n",
       "      <td>1.101345e+07</td>\n",
       "      <td>1.164222e+07</td>\n",
       "      <td>1.099638e+07</td>\n",
       "      <td>4.234081e+08</td>\n",
       "      <td>8.291208e+06</td>\n",
       "      <td>4.218030e+08</td>\n",
       "      <td>8.267071e+06</td>\n",
       "      <td>4.114331e+07</td>\n",
       "      <td>4.558411e+08</td>\n",
       "    </tr>\n",
       "    <tr>\n",
       "      <th>75%</th>\n",
       "      <td>1.304243e+19</td>\n",
       "      <td>749.000000</td>\n",
       "      <td>750.000000</td>\n",
       "      <td>1.324302e+05</td>\n",
       "      <td>2.082018e+14</td>\n",
       "      <td>3.368349e+10</td>\n",
       "      <td>8.611970e+13</td>\n",
       "      <td>70.000000</td>\n",
       "      <td>15.000000</td>\n",
       "      <td>19710.750000</td>\n",
       "      <td>...</td>\n",
       "      <td>1.744852e+07</td>\n",
       "      <td>1.651556e+07</td>\n",
       "      <td>1.747048e+07</td>\n",
       "      <td>1.650727e+07</td>\n",
       "      <td>6.331742e+08</td>\n",
       "      <td>1.243162e+07</td>\n",
       "      <td>6.316918e+08</td>\n",
       "      <td>1.238415e+07</td>\n",
       "      <td>4.903424e+07</td>\n",
       "      <td>6.657055e+08</td>\n",
       "    </tr>\n",
       "    <tr>\n",
       "      <th>max</th>\n",
       "      <td>1.318654e+19</td>\n",
       "      <td>999.000000</td>\n",
       "      <td>999.000000</td>\n",
       "      <td>1.859336e+06</td>\n",
       "      <td>2.140743e+14</td>\n",
       "      <td>8.823971e+14</td>\n",
       "      <td>9.900120e+13</td>\n",
       "      <td>96923.000000</td>\n",
       "      <td>7120.000000</td>\n",
       "      <td>378160.000000</td>\n",
       "      <td>...</td>\n",
       "      <td>2.325910e+07</td>\n",
       "      <td>2.201196e+07</td>\n",
       "      <td>2.325919e+07</td>\n",
       "      <td>2.201196e+07</td>\n",
       "      <td>8.434419e+08</td>\n",
       "      <td>1.655879e+07</td>\n",
       "      <td>8.434425e+08</td>\n",
       "      <td>1.655882e+07</td>\n",
       "      <td>7.833131e+07</td>\n",
       "      <td>9.029696e+08</td>\n",
       "    </tr>\n",
       "  </tbody>\n",
       "</table>\n",
       "<p>8 rows × 50 columns</p>\n",
       "</div>"
      ],
      "text/plain": [
       "          Bearer Id       Start ms         End ms     Dur. (ms)          IMSI  \\\n",
       "count  1.490100e+05  150000.000000  150000.000000  1.500000e+05  1.494310e+05   \n",
       "mean   1.013887e+19     499.188200     498.800880  1.046086e+05  2.082016e+14   \n",
       "std    2.893173e+18     288.611834     288.097653  8.103762e+04  2.148809e+10   \n",
       "min    6.917538e+18       0.000000       0.000000  7.142000e+03  2.040471e+14   \n",
       "25%    7.349883e+18     250.000000     251.000000  5.744050e+04  2.082014e+14   \n",
       "50%    7.349883e+18     499.000000     500.000000  8.639900e+04  2.082015e+14   \n",
       "75%    1.304243e+19     749.000000     750.000000  1.324302e+05  2.082018e+14   \n",
       "max    1.318654e+19     999.000000     999.000000  1.859336e+06  2.140743e+14   \n",
       "\n",
       "       MSISDN/Number          IMEI  Avg RTT DL (ms)  Avg RTT UL (ms)  \\\n",
       "count   1.489350e+05  1.494290e+05    122172.000000    122189.000000   \n",
       "mean    4.188282e+10  4.847455e+13       109.795706        17.662883   \n",
       "std     2.447443e+12  2.241637e+13       619.782739        84.793524   \n",
       "min     3.360100e+10  4.400152e+11         0.000000         0.000000   \n",
       "25%     3.365130e+10  3.546071e+13        32.000000         2.000000   \n",
       "50%     3.366371e+10  3.572201e+13        45.000000         5.000000   \n",
       "75%     3.368349e+10  8.611970e+13        70.000000        15.000000   \n",
       "max     8.823971e+14  9.900120e+13     96923.000000      7120.000000   \n",
       "\n",
       "       Avg Bearer TP DL (kbps)  ...  Youtube DL (Bytes)  Youtube UL (Bytes)  \\\n",
       "count            150000.000000  ...        1.500010e+05        1.500010e+05   \n",
       "mean              13300.045927  ...        1.163407e+07        1.100941e+07   \n",
       "std               23971.878541  ...        6.710569e+06        6.345423e+06   \n",
       "min                   0.000000  ...        5.300000e+01        1.050000e+02   \n",
       "25%                  43.000000  ...        5.833501e+06        5.517965e+06   \n",
       "50%                  63.000000  ...        1.161602e+07        1.101345e+07   \n",
       "75%               19710.750000  ...        1.744852e+07        1.651556e+07   \n",
       "max              378160.000000  ...        2.325910e+07        2.201196e+07   \n",
       "\n",
       "       Netflix DL (Bytes)  Netflix UL (Bytes)  Gaming DL (Bytes)  \\\n",
       "count        1.500010e+05        1.500010e+05       1.500010e+05   \n",
       "mean         1.162685e+07        1.100175e+07       4.220447e+08   \n",
       "std          6.725218e+06        6.359490e+06       2.439675e+08   \n",
       "min          4.200000e+01        3.500000e+01       2.516000e+03   \n",
       "25%          5.777156e+06        5.475981e+06       2.104733e+08   \n",
       "50%          1.164222e+07        1.099638e+07       4.234081e+08   \n",
       "75%          1.747048e+07        1.650727e+07       6.331742e+08   \n",
       "max          2.325919e+07        2.201196e+07       8.434419e+08   \n",
       "\n",
       "       Gaming UL (Bytes)  Other DL (Bytes)  Other UL (Bytes)  \\\n",
       "count       1.500010e+05      1.500010e+05      1.500010e+05   \n",
       "mean        8.288398e+06      4.211005e+08      8.264799e+06   \n",
       "std         4.782700e+06      2.432050e+08      4.769004e+06   \n",
       "min         5.900000e+01      3.290000e+03      1.480000e+02   \n",
       "25%         4.128476e+06      2.101869e+08      4.145943e+06   \n",
       "50%         8.291208e+06      4.218030e+08      8.267071e+06   \n",
       "75%         1.243162e+07      6.316918e+08      1.238415e+07   \n",
       "max         1.655879e+07      8.434425e+08      1.655882e+07   \n",
       "\n",
       "       Total UL (Bytes)  Total DL (Bytes)  \n",
       "count      1.500000e+05      1.500000e+05  \n",
       "mean       4.112121e+07      4.546434e+08  \n",
       "std        1.127639e+07      2.441429e+08  \n",
       "min        2.866892e+06      7.114041e+06  \n",
       "25%        3.322201e+07      2.431068e+08  \n",
       "50%        4.114331e+07      4.558411e+08  \n",
       "75%        4.903424e+07      6.657055e+08  \n",
       "max        7.833131e+07      9.029696e+08  \n",
       "\n",
       "[8 rows x 50 columns]"
      ]
     },
     "execution_count": 35,
     "metadata": {},
     "output_type": "execute_result"
    }
   ],
   "source": [
    "#showing mean, median, min, max, 25, 50, 75, std.\n",
    "\n",
    "data.describe()"
   ]
  },
  {
   "cell_type": "code",
   "execution_count": 36,
   "metadata": {},
   "outputs": [
    {
     "data": {
      "text/plain": [
       "Bearer Id                                      991\n",
       "Start                                            1\n",
       "Start ms                                         1\n",
       "End                                              1\n",
       "End ms                                           1\n",
       "Dur. (ms)                                        1\n",
       "IMSI                                           570\n",
       "MSISDN/Number                                 1066\n",
       "IMEI                                           572\n",
       "Last Location Name                            1153\n",
       "Avg RTT DL (ms)                              27829\n",
       "Avg RTT UL (ms)                              27812\n",
       "Avg Bearer TP DL (kbps)                          1\n",
       "Avg Bearer TP UL (kbps)                          1\n",
       "TCP DL Retrans. Vol (Bytes)                  88146\n",
       "TCP UL Retrans. Vol (Bytes)                  96649\n",
       "DL TP < 50 Kbps (%)                            754\n",
       "50 Kbps < DL TP < 250 Kbps (%)                 754\n",
       "250 Kbps < DL TP < 1 Mbps (%)                  754\n",
       "DL TP > 1 Mbps (%)                             754\n",
       "UL TP < 10 Kbps (%)                            792\n",
       "10 Kbps < UL TP < 50 Kbps (%)                  792\n",
       "50 Kbps < UL TP < 300 Kbps (%)                 792\n",
       "UL TP > 300 Kbps (%)                           792\n",
       "HTTP DL (Bytes)                              81474\n",
       "HTTP UL (Bytes)                              81810\n",
       "Activity Duration DL (ms)                        1\n",
       "Activity Duration UL (ms)                        1\n",
       "Dur. (ms).1                                      1\n",
       "Handset Manufacturer                           572\n",
       "Handset Type                                   572\n",
       "Nb of sec with 125000B < Vol DL              97538\n",
       "Nb of sec with 1250B < Vol UL < 6250B        92894\n",
       "Nb of sec with 31250B < Vol DL < 125000B     93586\n",
       "Nb of sec with 37500B < Vol UL              130254\n",
       "Nb of sec with 6250B < Vol DL < 31250B       88317\n",
       "Nb of sec with 6250B < Vol UL < 37500B      111843\n",
       "Nb of sec with Vol DL < 6250B                  755\n",
       "Nb of sec with Vol UL < 1250B                  793\n",
       "Social Media DL (Bytes)                          0\n",
       "Social Media UL (Bytes)                          0\n",
       "Google DL (Bytes)                                0\n",
       "Google UL (Bytes)                                0\n",
       "Email DL (Bytes)                                 0\n",
       "Email UL (Bytes)                                 0\n",
       "Youtube DL (Bytes)                               0\n",
       "Youtube UL (Bytes)                               0\n",
       "Netflix DL (Bytes)                               0\n",
       "Netflix UL (Bytes)                               0\n",
       "Gaming DL (Bytes)                                0\n",
       "Gaming UL (Bytes)                                0\n",
       "Other DL (Bytes)                                 0\n",
       "Other UL (Bytes)                                 0\n",
       "Total UL (Bytes)                                 1\n",
       "Total DL (Bytes)                                 1\n",
       "dtype: int64"
      ]
     },
     "execution_count": 36,
     "metadata": {},
     "output_type": "execute_result"
    }
   ],
   "source": [
    "#. Sum of number values in each column\n",
    "\n",
    "data.isnull().sum() "
   ]
  },
  {
   "cell_type": "code",
   "execution_count": 37,
   "metadata": {},
   "outputs": [
    {
     "data": {
      "text/plain": [
       "Bearer Id                                    True\n",
       "Start                                        True\n",
       "Start ms                                     True\n",
       "End                                          True\n",
       "End ms                                       True\n",
       "Dur. (ms)                                    True\n",
       "IMSI                                         True\n",
       "MSISDN/Number                                True\n",
       "IMEI                                         True\n",
       "Last Location Name                           True\n",
       "Avg RTT DL (ms)                              True\n",
       "Avg RTT UL (ms)                              True\n",
       "Avg Bearer TP DL (kbps)                      True\n",
       "Avg Bearer TP UL (kbps)                      True\n",
       "TCP DL Retrans. Vol (Bytes)                  True\n",
       "TCP UL Retrans. Vol (Bytes)                  True\n",
       "DL TP < 50 Kbps (%)                          True\n",
       "50 Kbps < DL TP < 250 Kbps (%)               True\n",
       "250 Kbps < DL TP < 1 Mbps (%)                True\n",
       "DL TP > 1 Mbps (%)                           True\n",
       "UL TP < 10 Kbps (%)                          True\n",
       "10 Kbps < UL TP < 50 Kbps (%)                True\n",
       "50 Kbps < UL TP < 300 Kbps (%)               True\n",
       "UL TP > 300 Kbps (%)                         True\n",
       "HTTP DL (Bytes)                              True\n",
       "HTTP UL (Bytes)                              True\n",
       "Activity Duration DL (ms)                    True\n",
       "Activity Duration UL (ms)                    True\n",
       "Dur. (ms).1                                  True\n",
       "Handset Manufacturer                         True\n",
       "Handset Type                                 True\n",
       "Nb of sec with 125000B < Vol DL              True\n",
       "Nb of sec with 1250B < Vol UL < 6250B        True\n",
       "Nb of sec with 31250B < Vol DL < 125000B     True\n",
       "Nb of sec with 37500B < Vol UL               True\n",
       "Nb of sec with 6250B < Vol DL < 31250B       True\n",
       "Nb of sec with 6250B < Vol UL < 37500B       True\n",
       "Nb of sec with Vol DL < 6250B                True\n",
       "Nb of sec with Vol UL < 1250B                True\n",
       "Social Media DL (Bytes)                     False\n",
       "Social Media UL (Bytes)                     False\n",
       "Google DL (Bytes)                           False\n",
       "Google UL (Bytes)                           False\n",
       "Email DL (Bytes)                            False\n",
       "Email UL (Bytes)                            False\n",
       "Youtube DL (Bytes)                          False\n",
       "Youtube UL (Bytes)                          False\n",
       "Netflix DL (Bytes)                          False\n",
       "Netflix UL (Bytes)                          False\n",
       "Gaming DL (Bytes)                           False\n",
       "Gaming UL (Bytes)                           False\n",
       "Other DL (Bytes)                            False\n",
       "Other UL (Bytes)                            False\n",
       "Total UL (Bytes)                             True\n",
       "Total DL (Bytes)                             True\n",
       "dtype: bool"
      ]
     },
     "execution_count": 37,
     "metadata": {},
     "output_type": "execute_result"
    }
   ],
   "source": [
    "#Clumns that have null values\n",
    "\n",
    "data.isnull().any()"
   ]
  },
  {
   "cell_type": "code",
   "execution_count": 38,
   "metadata": {},
   "outputs": [
    {
     "data": {
      "text/html": [
       "<div>\n",
       "<style scoped>\n",
       "    .dataframe tbody tr th:only-of-type {\n",
       "        vertical-align: middle;\n",
       "    }\n",
       "\n",
       "    .dataframe tbody tr th {\n",
       "        vertical-align: top;\n",
       "    }\n",
       "\n",
       "    .dataframe thead th {\n",
       "        text-align: right;\n",
       "    }\n",
       "</style>\n",
       "<table border=\"1\" class=\"dataframe\">\n",
       "  <thead>\n",
       "    <tr style=\"text-align: right;\">\n",
       "      <th></th>\n",
       "      <th>Bearer Id</th>\n",
       "      <th>Start</th>\n",
       "      <th>Start ms</th>\n",
       "      <th>End</th>\n",
       "      <th>End ms</th>\n",
       "      <th>Dur. (ms)</th>\n",
       "      <th>IMSI</th>\n",
       "      <th>MSISDN/Number</th>\n",
       "      <th>IMEI</th>\n",
       "      <th>Last Location Name</th>\n",
       "      <th>...</th>\n",
       "      <th>Youtube DL (Bytes)</th>\n",
       "      <th>Youtube UL (Bytes)</th>\n",
       "      <th>Netflix DL (Bytes)</th>\n",
       "      <th>Netflix UL (Bytes)</th>\n",
       "      <th>Gaming DL (Bytes)</th>\n",
       "      <th>Gaming UL (Bytes)</th>\n",
       "      <th>Other DL (Bytes)</th>\n",
       "      <th>Other UL (Bytes)</th>\n",
       "      <th>Total UL (Bytes)</th>\n",
       "      <th>Total DL (Bytes)</th>\n",
       "    </tr>\n",
       "  </thead>\n",
       "  <tbody>\n",
       "    <tr>\n",
       "      <th>0</th>\n",
       "      <td>1.311448e+19</td>\n",
       "      <td>4/4/2019 12:01</td>\n",
       "      <td>770.0</td>\n",
       "      <td>4/25/2019 14:35</td>\n",
       "      <td>662.0</td>\n",
       "      <td>1823652.0</td>\n",
       "      <td>2.082014e+14</td>\n",
       "      <td>3.366496e+10</td>\n",
       "      <td>3.552121e+13</td>\n",
       "      <td>9.16456699548519E+015</td>\n",
       "      <td>...</td>\n",
       "      <td>1.585461e+07</td>\n",
       "      <td>2.501332e+06</td>\n",
       "      <td>8.198936e+06</td>\n",
       "      <td>9.656251e+06</td>\n",
       "      <td>2.780823e+08</td>\n",
       "      <td>1.434415e+07</td>\n",
       "      <td>1.717444e+08</td>\n",
       "      <td>8.814393e+06</td>\n",
       "      <td>3.674974e+07</td>\n",
       "      <td>3.088796e+08</td>\n",
       "    </tr>\n",
       "    <tr>\n",
       "      <th>1</th>\n",
       "      <td>1.311448e+19</td>\n",
       "      <td>4/9/2019 13:04</td>\n",
       "      <td>235.0</td>\n",
       "      <td>4/25/2019 8:15</td>\n",
       "      <td>606.0</td>\n",
       "      <td>1365104.0</td>\n",
       "      <td>2.082019e+14</td>\n",
       "      <td>3.368185e+10</td>\n",
       "      <td>3.579401e+13</td>\n",
       "      <td>L77566A</td>\n",
       "      <td>...</td>\n",
       "      <td>2.024740e+07</td>\n",
       "      <td>1.911173e+07</td>\n",
       "      <td>1.833841e+07</td>\n",
       "      <td>1.722713e+07</td>\n",
       "      <td>6.087501e+08</td>\n",
       "      <td>1.170709e+06</td>\n",
       "      <td>5.269042e+08</td>\n",
       "      <td>1.505514e+07</td>\n",
       "      <td>5.380039e+07</td>\n",
       "      <td>6.533850e+08</td>\n",
       "    </tr>\n",
       "    <tr>\n",
       "      <th>2</th>\n",
       "      <td>1.311448e+19</td>\n",
       "      <td>4/9/2019 17:42</td>\n",
       "      <td>1.0</td>\n",
       "      <td>4/25/2019 11:58</td>\n",
       "      <td>652.0</td>\n",
       "      <td>1361762.0</td>\n",
       "      <td>2.082003e+14</td>\n",
       "      <td>3.376063e+10</td>\n",
       "      <td>3.528151e+13</td>\n",
       "      <td>D42335A</td>\n",
       "      <td>...</td>\n",
       "      <td>1.972566e+07</td>\n",
       "      <td>1.469958e+07</td>\n",
       "      <td>1.758779e+07</td>\n",
       "      <td>6.163408e+06</td>\n",
       "      <td>2.295846e+08</td>\n",
       "      <td>3.956300e+05</td>\n",
       "      <td>4.106926e+08</td>\n",
       "      <td>4.215763e+06</td>\n",
       "      <td>2.788364e+07</td>\n",
       "      <td>2.798073e+08</td>\n",
       "    </tr>\n",
       "    <tr>\n",
       "      <th>3</th>\n",
       "      <td>1.311448e+19</td>\n",
       "      <td>4/10/2019 0:31</td>\n",
       "      <td>486.0</td>\n",
       "      <td>4/25/2019 7:36</td>\n",
       "      <td>171.0</td>\n",
       "      <td>1321509.0</td>\n",
       "      <td>2.082014e+14</td>\n",
       "      <td>3.375034e+10</td>\n",
       "      <td>3.535661e+13</td>\n",
       "      <td>T21824A</td>\n",
       "      <td>...</td>\n",
       "      <td>2.138812e+07</td>\n",
       "      <td>1.514664e+07</td>\n",
       "      <td>1.399465e+07</td>\n",
       "      <td>1.097942e+06</td>\n",
       "      <td>7.995382e+08</td>\n",
       "      <td>1.084972e+07</td>\n",
       "      <td>7.490399e+08</td>\n",
       "      <td>1.279728e+07</td>\n",
       "      <td>4.332422e+07</td>\n",
       "      <td>8.460285e+08</td>\n",
       "    </tr>\n",
       "    <tr>\n",
       "      <th>4</th>\n",
       "      <td>1.311448e+19</td>\n",
       "      <td>4/12/2019 20:10</td>\n",
       "      <td>565.0</td>\n",
       "      <td>4/25/2019 10:40</td>\n",
       "      <td>954.0</td>\n",
       "      <td>1089009.0</td>\n",
       "      <td>2.082014e+14</td>\n",
       "      <td>3.369980e+10</td>\n",
       "      <td>3.540701e+13</td>\n",
       "      <td>D88865A</td>\n",
       "      <td>...</td>\n",
       "      <td>1.525938e+07</td>\n",
       "      <td>1.896287e+07</td>\n",
       "      <td>1.712458e+07</td>\n",
       "      <td>4.152180e+05</td>\n",
       "      <td>5.277072e+08</td>\n",
       "      <td>3.529801e+06</td>\n",
       "      <td>5.507095e+08</td>\n",
       "      <td>1.391032e+07</td>\n",
       "      <td>3.854281e+07</td>\n",
       "      <td>5.691386e+08</td>\n",
       "    </tr>\n",
       "    <tr>\n",
       "      <th>...</th>\n",
       "      <td>...</td>\n",
       "      <td>...</td>\n",
       "      <td>...</td>\n",
       "      <td>...</td>\n",
       "      <td>...</td>\n",
       "      <td>...</td>\n",
       "      <td>...</td>\n",
       "      <td>...</td>\n",
       "      <td>...</td>\n",
       "      <td>...</td>\n",
       "      <td>...</td>\n",
       "      <td>...</td>\n",
       "      <td>...</td>\n",
       "      <td>...</td>\n",
       "      <td>...</td>\n",
       "      <td>...</td>\n",
       "      <td>...</td>\n",
       "      <td>...</td>\n",
       "      <td>...</td>\n",
       "      <td>...</td>\n",
       "      <td>...</td>\n",
       "    </tr>\n",
       "    <tr>\n",
       "      <th>149996</th>\n",
       "      <td>7.277826e+18</td>\n",
       "      <td>4/29/2019 7:28</td>\n",
       "      <td>451.0</td>\n",
       "      <td>4/30/2019 6:02</td>\n",
       "      <td>214.0</td>\n",
       "      <td>81230.0</td>\n",
       "      <td>2.082022e+14</td>\n",
       "      <td>3.365069e+10</td>\n",
       "      <td>3.548311e+13</td>\n",
       "      <td>D20434A</td>\n",
       "      <td>...</td>\n",
       "      <td>1.619167e+07</td>\n",
       "      <td>1.176343e+07</td>\n",
       "      <td>1.788370e+07</td>\n",
       "      <td>1.967816e+07</td>\n",
       "      <td>5.266097e+08</td>\n",
       "      <td>9.197207e+06</td>\n",
       "      <td>3.264510e+06</td>\n",
       "      <td>1.348742e+07</td>\n",
       "      <td>5.762885e+07</td>\n",
       "      <td>5.741753e+08</td>\n",
       "    </tr>\n",
       "    <tr>\n",
       "      <th>149997</th>\n",
       "      <td>7.349883e+18</td>\n",
       "      <td>4/29/2019 7:28</td>\n",
       "      <td>483.0</td>\n",
       "      <td>4/30/2019 10:41</td>\n",
       "      <td>187.0</td>\n",
       "      <td>97970.0</td>\n",
       "      <td>2.082019e+14</td>\n",
       "      <td>3.366345e+10</td>\n",
       "      <td>3.566051e+13</td>\n",
       "      <td>D10223C</td>\n",
       "      <td>...</td>\n",
       "      <td>1.387723e+07</td>\n",
       "      <td>8.288284e+06</td>\n",
       "      <td>1.935015e+07</td>\n",
       "      <td>2.129315e+07</td>\n",
       "      <td>6.268931e+08</td>\n",
       "      <td>4.735033e+06</td>\n",
       "      <td>7.121804e+08</td>\n",
       "      <td>2.457758e+06</td>\n",
       "      <td>3.913508e+07</td>\n",
       "      <td>6.666488e+08</td>\n",
       "    </tr>\n",
       "    <tr>\n",
       "      <th>149998</th>\n",
       "      <td>1.311448e+19</td>\n",
       "      <td>4/29/2019 7:28</td>\n",
       "      <td>283.0</td>\n",
       "      <td>4/30/2019 10:46</td>\n",
       "      <td>810.0</td>\n",
       "      <td>98249.0</td>\n",
       "      <td>2.082017e+14</td>\n",
       "      <td>3.362189e+10</td>\n",
       "      <td>3.572121e+13</td>\n",
       "      <td>T51102A</td>\n",
       "      <td>...</td>\n",
       "      <td>2.266051e+07</td>\n",
       "      <td>1.855903e+06</td>\n",
       "      <td>9.963942e+06</td>\n",
       "      <td>5.065760e+06</td>\n",
       "      <td>5.535395e+08</td>\n",
       "      <td>1.339432e+07</td>\n",
       "      <td>1.211009e+08</td>\n",
       "      <td>1.131473e+07</td>\n",
       "      <td>3.491222e+07</td>\n",
       "      <td>5.927864e+08</td>\n",
       "    </tr>\n",
       "    <tr>\n",
       "      <th>149999</th>\n",
       "      <td>1.311448e+19</td>\n",
       "      <td>4/29/2019 7:28</td>\n",
       "      <td>696.0</td>\n",
       "      <td>4/30/2019 10:40</td>\n",
       "      <td>327.0</td>\n",
       "      <td>97910.0</td>\n",
       "      <td>2.082021e+14</td>\n",
       "      <td>3.361962e+10</td>\n",
       "      <td>8.618620e+13</td>\n",
       "      <td>L88342B</td>\n",
       "      <td>...</td>\n",
       "      <td>8.817106e+06</td>\n",
       "      <td>8.305402e+06</td>\n",
       "      <td>3.322253e+06</td>\n",
       "      <td>1.317259e+07</td>\n",
       "      <td>3.525370e+08</td>\n",
       "      <td>2.529475e+06</td>\n",
       "      <td>8.147131e+08</td>\n",
       "      <td>1.406930e+06</td>\n",
       "      <td>2.962610e+07</td>\n",
       "      <td>3.718959e+08</td>\n",
       "    </tr>\n",
       "    <tr>\n",
       "      <th>150000</th>\n",
       "      <td>NaN</td>\n",
       "      <td>NaN</td>\n",
       "      <td>NaN</td>\n",
       "      <td>NaN</td>\n",
       "      <td>NaN</td>\n",
       "      <td>NaN</td>\n",
       "      <td>NaN</td>\n",
       "      <td>NaN</td>\n",
       "      <td>NaN</td>\n",
       "      <td>NaN</td>\n",
       "      <td>...</td>\n",
       "      <td>1.163407e+07</td>\n",
       "      <td>1.100941e+07</td>\n",
       "      <td>1.162685e+07</td>\n",
       "      <td>1.100175e+07</td>\n",
       "      <td>4.220447e+08</td>\n",
       "      <td>8.288398e+06</td>\n",
       "      <td>4.211005e+08</td>\n",
       "      <td>8.264799e+06</td>\n",
       "      <td>4.112121e+07</td>\n",
       "      <td>4.546434e+08</td>\n",
       "    </tr>\n",
       "  </tbody>\n",
       "</table>\n",
       "<p>150001 rows × 55 columns</p>\n",
       "</div>"
      ],
      "text/plain": [
       "           Bearer Id            Start  Start ms              End  End ms  \\\n",
       "0       1.311448e+19   4/4/2019 12:01     770.0  4/25/2019 14:35   662.0   \n",
       "1       1.311448e+19   4/9/2019 13:04     235.0   4/25/2019 8:15   606.0   \n",
       "2       1.311448e+19   4/9/2019 17:42       1.0  4/25/2019 11:58   652.0   \n",
       "3       1.311448e+19   4/10/2019 0:31     486.0   4/25/2019 7:36   171.0   \n",
       "4       1.311448e+19  4/12/2019 20:10     565.0  4/25/2019 10:40   954.0   \n",
       "...              ...              ...       ...              ...     ...   \n",
       "149996  7.277826e+18   4/29/2019 7:28     451.0   4/30/2019 6:02   214.0   \n",
       "149997  7.349883e+18   4/29/2019 7:28     483.0  4/30/2019 10:41   187.0   \n",
       "149998  1.311448e+19   4/29/2019 7:28     283.0  4/30/2019 10:46   810.0   \n",
       "149999  1.311448e+19   4/29/2019 7:28     696.0  4/30/2019 10:40   327.0   \n",
       "150000           NaN              NaN       NaN              NaN     NaN   \n",
       "\n",
       "        Dur. (ms)          IMSI  MSISDN/Number          IMEI  \\\n",
       "0       1823652.0  2.082014e+14   3.366496e+10  3.552121e+13   \n",
       "1       1365104.0  2.082019e+14   3.368185e+10  3.579401e+13   \n",
       "2       1361762.0  2.082003e+14   3.376063e+10  3.528151e+13   \n",
       "3       1321509.0  2.082014e+14   3.375034e+10  3.535661e+13   \n",
       "4       1089009.0  2.082014e+14   3.369980e+10  3.540701e+13   \n",
       "...           ...           ...            ...           ...   \n",
       "149996    81230.0  2.082022e+14   3.365069e+10  3.548311e+13   \n",
       "149997    97970.0  2.082019e+14   3.366345e+10  3.566051e+13   \n",
       "149998    98249.0  2.082017e+14   3.362189e+10  3.572121e+13   \n",
       "149999    97910.0  2.082021e+14   3.361962e+10  8.618620e+13   \n",
       "150000        NaN           NaN            NaN           NaN   \n",
       "\n",
       "           Last Location Name  ...  Youtube DL (Bytes)  Youtube UL (Bytes)  \\\n",
       "0       9.16456699548519E+015  ...        1.585461e+07        2.501332e+06   \n",
       "1                     L77566A  ...        2.024740e+07        1.911173e+07   \n",
       "2                     D42335A  ...        1.972566e+07        1.469958e+07   \n",
       "3                     T21824A  ...        2.138812e+07        1.514664e+07   \n",
       "4                     D88865A  ...        1.525938e+07        1.896287e+07   \n",
       "...                       ...  ...                 ...                 ...   \n",
       "149996                D20434A  ...        1.619167e+07        1.176343e+07   \n",
       "149997                D10223C  ...        1.387723e+07        8.288284e+06   \n",
       "149998                T51102A  ...        2.266051e+07        1.855903e+06   \n",
       "149999                L88342B  ...        8.817106e+06        8.305402e+06   \n",
       "150000                    NaN  ...        1.163407e+07        1.100941e+07   \n",
       "\n",
       "        Netflix DL (Bytes)  Netflix UL (Bytes)  Gaming DL (Bytes)  \\\n",
       "0             8.198936e+06        9.656251e+06       2.780823e+08   \n",
       "1             1.833841e+07        1.722713e+07       6.087501e+08   \n",
       "2             1.758779e+07        6.163408e+06       2.295846e+08   \n",
       "3             1.399465e+07        1.097942e+06       7.995382e+08   \n",
       "4             1.712458e+07        4.152180e+05       5.277072e+08   \n",
       "...                    ...                 ...                ...   \n",
       "149996        1.788370e+07        1.967816e+07       5.266097e+08   \n",
       "149997        1.935015e+07        2.129315e+07       6.268931e+08   \n",
       "149998        9.963942e+06        5.065760e+06       5.535395e+08   \n",
       "149999        3.322253e+06        1.317259e+07       3.525370e+08   \n",
       "150000        1.162685e+07        1.100175e+07       4.220447e+08   \n",
       "\n",
       "        Gaming UL (Bytes)  Other DL (Bytes)  Other UL (Bytes)  \\\n",
       "0            1.434415e+07      1.717444e+08      8.814393e+06   \n",
       "1            1.170709e+06      5.269042e+08      1.505514e+07   \n",
       "2            3.956300e+05      4.106926e+08      4.215763e+06   \n",
       "3            1.084972e+07      7.490399e+08      1.279728e+07   \n",
       "4            3.529801e+06      5.507095e+08      1.391032e+07   \n",
       "...                   ...               ...               ...   \n",
       "149996       9.197207e+06      3.264510e+06      1.348742e+07   \n",
       "149997       4.735033e+06      7.121804e+08      2.457758e+06   \n",
       "149998       1.339432e+07      1.211009e+08      1.131473e+07   \n",
       "149999       2.529475e+06      8.147131e+08      1.406930e+06   \n",
       "150000       8.288398e+06      4.211005e+08      8.264799e+06   \n",
       "\n",
       "        Total UL (Bytes)  Total DL (Bytes)  \n",
       "0           3.674974e+07      3.088796e+08  \n",
       "1           5.380039e+07      6.533850e+08  \n",
       "2           2.788364e+07      2.798073e+08  \n",
       "3           4.332422e+07      8.460285e+08  \n",
       "4           3.854281e+07      5.691386e+08  \n",
       "...                  ...               ...  \n",
       "149996      5.762885e+07      5.741753e+08  \n",
       "149997      3.913508e+07      6.666488e+08  \n",
       "149998      3.491222e+07      5.927864e+08  \n",
       "149999      2.962610e+07      3.718959e+08  \n",
       "150000      4.112121e+07      4.546434e+08  \n",
       "\n",
       "[150001 rows x 55 columns]"
      ]
     },
     "execution_count": 38,
     "metadata": {},
     "output_type": "execute_result"
    }
   ],
   "source": [
    "# replace null value with mean\n",
    "without_null_values = data.fillna(df.mean())\n",
    "without_null_values"
   ]
  },
  {
   "cell_type": "code",
   "execution_count": 39,
   "metadata": {},
   "outputs": [
    {
     "data": {
      "text/plain": [
       "Bearer Id                                    True\n",
       "Start                                        True\n",
       "Start ms                                     True\n",
       "End                                          True\n",
       "End ms                                       True\n",
       "Dur. (ms)                                    True\n",
       "IMSI                                         True\n",
       "MSISDN/Number                                True\n",
       "IMEI                                         True\n",
       "Last Location Name                           True\n",
       "Avg RTT DL (ms)                              True\n",
       "Avg RTT UL (ms)                              True\n",
       "Avg Bearer TP DL (kbps)                      True\n",
       "Avg Bearer TP UL (kbps)                      True\n",
       "TCP DL Retrans. Vol (Bytes)                  True\n",
       "TCP UL Retrans. Vol (Bytes)                  True\n",
       "DL TP < 50 Kbps (%)                          True\n",
       "50 Kbps < DL TP < 250 Kbps (%)               True\n",
       "250 Kbps < DL TP < 1 Mbps (%)                True\n",
       "DL TP > 1 Mbps (%)                           True\n",
       "UL TP < 10 Kbps (%)                          True\n",
       "10 Kbps < UL TP < 50 Kbps (%)                True\n",
       "50 Kbps < UL TP < 300 Kbps (%)               True\n",
       "UL TP > 300 Kbps (%)                         True\n",
       "HTTP DL (Bytes)                              True\n",
       "HTTP UL (Bytes)                              True\n",
       "Activity Duration DL (ms)                    True\n",
       "Activity Duration UL (ms)                    True\n",
       "Dur. (ms).1                                  True\n",
       "Handset Manufacturer                         True\n",
       "Handset Type                                 True\n",
       "Nb of sec with 125000B < Vol DL             False\n",
       "Nb of sec with 1250B < Vol UL < 6250B       False\n",
       "Nb of sec with 31250B < Vol DL < 125000B    False\n",
       "Nb of sec with 37500B < Vol UL              False\n",
       "Nb of sec with 6250B < Vol DL < 31250B      False\n",
       "Nb of sec with 6250B < Vol UL < 37500B      False\n",
       "Nb of sec with Vol DL < 6250B               False\n",
       "Nb of sec with Vol UL < 1250B               False\n",
       "Social Media DL (Bytes)                     False\n",
       "Social Media UL (Bytes)                     False\n",
       "Google DL (Bytes)                           False\n",
       "Google UL (Bytes)                           False\n",
       "Email DL (Bytes)                            False\n",
       "Email UL (Bytes)                            False\n",
       "Youtube DL (Bytes)                          False\n",
       "Youtube UL (Bytes)                          False\n",
       "Netflix DL (Bytes)                          False\n",
       "Netflix UL (Bytes)                          False\n",
       "Gaming DL (Bytes)                           False\n",
       "Gaming UL (Bytes)                           False\n",
       "Other DL (Bytes)                            False\n",
       "Other UL (Bytes)                            False\n",
       "Total UL (Bytes)                            False\n",
       "Total DL (Bytes)                            False\n",
       "dtype: bool"
      ]
     },
     "execution_count": 39,
     "metadata": {},
     "output_type": "execute_result"
    }
   ],
   "source": [
    "without_null_values.isnull().any()"
   ]
  },
  {
   "cell_type": "markdown",
   "metadata": {},
   "source": [
    "# treat missing & outliers by replacing by the mean or the mode of the corresponding variable:\n"
   ]
  },
  {
   "cell_type": "markdown",
   "metadata": {},
   "source": [
    "Average TCP retransmission"
   ]
  },
  {
   "cell_type": "code",
   "execution_count": 21,
   "metadata": {},
   "outputs": [
    {
     "data": {
      "text/html": [
       "<div>\n",
       "<style scoped>\n",
       "    .dataframe tbody tr th:only-of-type {\n",
       "        vertical-align: middle;\n",
       "    }\n",
       "\n",
       "    .dataframe tbody tr th {\n",
       "        vertical-align: top;\n",
       "    }\n",
       "\n",
       "    .dataframe thead th {\n",
       "        text-align: right;\n",
       "    }\n",
       "</style>\n",
       "<table border=\"1\" class=\"dataframe\">\n",
       "  <thead>\n",
       "    <tr style=\"text-align: right;\">\n",
       "      <th></th>\n",
       "      <th>Avg RTT DL (ms)</th>\n",
       "      <th>Avg RTT UL (ms)</th>\n",
       "      <th>Avg Bearer TP DL (kbps)</th>\n",
       "      <th>Avg Bearer TP UL (kbps)</th>\n",
       "    </tr>\n",
       "  </thead>\n",
       "  <tbody>\n",
       "    <tr>\n",
       "      <th>count</th>\n",
       "      <td>122172.000000</td>\n",
       "      <td>122189.000000</td>\n",
       "      <td>150000.000000</td>\n",
       "      <td>150000.000000</td>\n",
       "    </tr>\n",
       "    <tr>\n",
       "      <th>mean</th>\n",
       "      <td>109.795706</td>\n",
       "      <td>17.662883</td>\n",
       "      <td>13300.045927</td>\n",
       "      <td>1770.428647</td>\n",
       "    </tr>\n",
       "    <tr>\n",
       "      <th>std</th>\n",
       "      <td>619.782739</td>\n",
       "      <td>84.793524</td>\n",
       "      <td>23971.878541</td>\n",
       "      <td>4625.355500</td>\n",
       "    </tr>\n",
       "    <tr>\n",
       "      <th>min</th>\n",
       "      <td>0.000000</td>\n",
       "      <td>0.000000</td>\n",
       "      <td>0.000000</td>\n",
       "      <td>0.000000</td>\n",
       "    </tr>\n",
       "    <tr>\n",
       "      <th>25%</th>\n",
       "      <td>32.000000</td>\n",
       "      <td>2.000000</td>\n",
       "      <td>43.000000</td>\n",
       "      <td>47.000000</td>\n",
       "    </tr>\n",
       "    <tr>\n",
       "      <th>50%</th>\n",
       "      <td>45.000000</td>\n",
       "      <td>5.000000</td>\n",
       "      <td>63.000000</td>\n",
       "      <td>63.000000</td>\n",
       "    </tr>\n",
       "    <tr>\n",
       "      <th>75%</th>\n",
       "      <td>70.000000</td>\n",
       "      <td>15.000000</td>\n",
       "      <td>19710.750000</td>\n",
       "      <td>1120.000000</td>\n",
       "    </tr>\n",
       "    <tr>\n",
       "      <th>max</th>\n",
       "      <td>96923.000000</td>\n",
       "      <td>7120.000000</td>\n",
       "      <td>378160.000000</td>\n",
       "      <td>58613.000000</td>\n",
       "    </tr>\n",
       "  </tbody>\n",
       "</table>\n",
       "</div>"
      ],
      "text/plain": [
       "       Avg RTT DL (ms)  Avg RTT UL (ms)  Avg Bearer TP DL (kbps)  \\\n",
       "count    122172.000000    122189.000000            150000.000000   \n",
       "mean        109.795706        17.662883             13300.045927   \n",
       "std         619.782739        84.793524             23971.878541   \n",
       "min           0.000000         0.000000                 0.000000   \n",
       "25%          32.000000         2.000000                43.000000   \n",
       "50%          45.000000         5.000000                63.000000   \n",
       "75%          70.000000        15.000000             19710.750000   \n",
       "max       96923.000000      7120.000000            378160.000000   \n",
       "\n",
       "       Avg Bearer TP UL (kbps)  \n",
       "count            150000.000000  \n",
       "mean               1770.428647  \n",
       "std                4625.355500  \n",
       "min                   0.000000  \n",
       "25%                  47.000000  \n",
       "50%                  63.000000  \n",
       "75%                1120.000000  \n",
       "max               58613.000000  "
      ]
     },
     "execution_count": 21,
     "metadata": {},
     "output_type": "execute_result"
    }
   ],
   "source": [
    "df = pd.DataFrame(data, columns= [\n",
    "'Avg RTT DL (ms)',\n",
    "'Avg RTT UL (ms)',\n",
    "'Avg Bearer TP DL (kbps)',\n",
    "'Avg Bearer TP UL (kbps)',\n",
    "'Handset Type',])\n",
    "\n",
    "df.describe()"
   ]
  },
  {
   "cell_type": "code",
   "execution_count": 22,
   "metadata": {},
   "outputs": [
    {
     "data": {
      "text/plain": [
       "<AxesSubplot:>"
      ]
     },
     "execution_count": 22,
     "metadata": {},
     "output_type": "execute_result"
    },
    {
     "data": {
      "image/png": "[encoded data removed]",
      "text/plain": [
       "<Figure size 432x288 with 1 Axes>"
      ]
     },
     "metadata": {
      "needs_background": "light"
     },
     "output_type": "display_data"
    }
   ],
   "source": [
    "df.plot()"
   ]
  },
  {
   "cell_type": "code",
   "execution_count": 88,
   "metadata": {},
   "outputs": [
    {
     "data": {
      "text/html": [
       "<div>\n",
       "<style scoped>\n",
       "    .dataframe tbody tr th:only-of-type {\n",
       "        vertical-align: middle;\n",
       "    }\n",
       "\n",
       "    .dataframe tbody tr th {\n",
       "        vertical-align: top;\n",
       "    }\n",
       "\n",
       "    .dataframe thead th {\n",
       "        text-align: right;\n",
       "    }\n",
       "</style>\n",
       "<table border=\"1\" class=\"dataframe\">\n",
       "  <thead>\n",
       "    <tr style=\"text-align: right;\">\n",
       "      <th></th>\n",
       "      <th>Avg RTT DL (ms)</th>\n",
       "      <th>Avg RTT UL (ms)</th>\n",
       "      <th>Avg Bearer TP DL (kbps)</th>\n",
       "      <th>Avg Bearer TP UL (kbps)</th>\n",
       "      <th>Handset Type</th>\n",
       "    </tr>\n",
       "  </thead>\n",
       "  <tbody>\n",
       "    <tr>\n",
       "      <th>0</th>\n",
       "      <td>42.000000</td>\n",
       "      <td>5.000000</td>\n",
       "      <td>23.000000</td>\n",
       "      <td>44.000000</td>\n",
       "      <td>Samsung Galaxy A5 Sm-A520F</td>\n",
       "    </tr>\n",
       "    <tr>\n",
       "      <th>1</th>\n",
       "      <td>65.000000</td>\n",
       "      <td>5.000000</td>\n",
       "      <td>16.000000</td>\n",
       "      <td>26.000000</td>\n",
       "      <td>Samsung Galaxy J5 (Sm-J530)</td>\n",
       "    </tr>\n",
       "    <tr>\n",
       "      <th>2</th>\n",
       "      <td>109.795706</td>\n",
       "      <td>17.662883</td>\n",
       "      <td>6.000000</td>\n",
       "      <td>9.000000</td>\n",
       "      <td>Samsung Galaxy A8 (2018)</td>\n",
       "    </tr>\n",
       "    <tr>\n",
       "      <th>3</th>\n",
       "      <td>109.795706</td>\n",
       "      <td>17.662883</td>\n",
       "      <td>44.000000</td>\n",
       "      <td>44.000000</td>\n",
       "      <td>undefined</td>\n",
       "    </tr>\n",
       "    <tr>\n",
       "      <th>4</th>\n",
       "      <td>109.795706</td>\n",
       "      <td>17.662883</td>\n",
       "      <td>6.000000</td>\n",
       "      <td>9.000000</td>\n",
       "      <td>Samsung Sm-G390F</td>\n",
       "    </tr>\n",
       "    <tr>\n",
       "      <th>...</th>\n",
       "      <td>...</td>\n",
       "      <td>...</td>\n",
       "      <td>...</td>\n",
       "      <td>...</td>\n",
       "      <td>...</td>\n",
       "    </tr>\n",
       "    <tr>\n",
       "      <th>149996</th>\n",
       "      <td>32.000000</td>\n",
       "      <td>0.000000</td>\n",
       "      <td>52.000000</td>\n",
       "      <td>65.000000</td>\n",
       "      <td>Apple iPhone 8 Plus (A1897)</td>\n",
       "    </tr>\n",
       "    <tr>\n",
       "      <th>149997</th>\n",
       "      <td>27.000000</td>\n",
       "      <td>2.000000</td>\n",
       "      <td>23.000000</td>\n",
       "      <td>54.000000</td>\n",
       "      <td>Apple iPhone Se (A1723)</td>\n",
       "    </tr>\n",
       "    <tr>\n",
       "      <th>149998</th>\n",
       "      <td>43.000000</td>\n",
       "      <td>6.000000</td>\n",
       "      <td>43.000000</td>\n",
       "      <td>47.000000</td>\n",
       "      <td>Apple iPhone Xs (A2097)</td>\n",
       "    </tr>\n",
       "    <tr>\n",
       "      <th>149999</th>\n",
       "      <td>37.000000</td>\n",
       "      <td>5.000000</td>\n",
       "      <td>34.000000</td>\n",
       "      <td>37.000000</td>\n",
       "      <td>Huawei Fig-Lx1</td>\n",
       "    </tr>\n",
       "    <tr>\n",
       "      <th>150000</th>\n",
       "      <td>109.795706</td>\n",
       "      <td>17.662883</td>\n",
       "      <td>13300.045927</td>\n",
       "      <td>1770.428647</td>\n",
       "      <td>NaN</td>\n",
       "    </tr>\n",
       "  </tbody>\n",
       "</table>\n",
       "<p>150001 rows × 5 columns</p>\n",
       "</div>"
      ],
      "text/plain": [
       "        Avg RTT DL (ms)  Avg RTT UL (ms)  Avg Bearer TP DL (kbps)  \\\n",
       "0             42.000000         5.000000                23.000000   \n",
       "1             65.000000         5.000000                16.000000   \n",
       "2            109.795706        17.662883                 6.000000   \n",
       "3            109.795706        17.662883                44.000000   \n",
       "4            109.795706        17.662883                 6.000000   \n",
       "...                 ...              ...                      ...   \n",
       "149996        32.000000         0.000000                52.000000   \n",
       "149997        27.000000         2.000000                23.000000   \n",
       "149998        43.000000         6.000000                43.000000   \n",
       "149999        37.000000         5.000000                34.000000   \n",
       "150000       109.795706        17.662883             13300.045927   \n",
       "\n",
       "        Avg Bearer TP UL (kbps)                 Handset Type  \n",
       "0                     44.000000   Samsung Galaxy A5 Sm-A520F  \n",
       "1                     26.000000  Samsung Galaxy J5 (Sm-J530)  \n",
       "2                      9.000000     Samsung Galaxy A8 (2018)  \n",
       "3                     44.000000                    undefined  \n",
       "4                      9.000000             Samsung Sm-G390F  \n",
       "...                         ...                          ...  \n",
       "149996                65.000000  Apple iPhone 8 Plus (A1897)  \n",
       "149997                54.000000      Apple iPhone Se (A1723)  \n",
       "149998                47.000000      Apple iPhone Xs (A2097)  \n",
       "149999                37.000000               Huawei Fig-Lx1  \n",
       "150000              1770.428647                          NaN  \n",
       "\n",
       "[150001 rows x 5 columns]"
      ]
     },
     "execution_count": 88,
     "metadata": {},
     "output_type": "execute_result"
    }
   ],
   "source": [
    "df.fillna(df.mean())"
   ]
  },
  {
   "cell_type": "markdown",
   "metadata": {},
   "source": [
    "# Task 3.2 - Compute & list 10 of the top, bottom and most frequent:\n"
   ]
  },
  {
   "cell_type": "code",
   "execution_count": 95,
   "metadata": {},
   "outputs": [
    {
     "data": {
      "text/plain": [
       "[62.0, 23.0, 43.0, 55.0, 63420.0, 52.0, 23.0, 43.0, 34.0, nan]"
      ]
     },
     "execution_count": 95,
     "metadata": {},
     "output_type": "execute_result"
    }
   ],
   "source": [
    "n = 10\n",
    "\n",
    "tcp_tcp_values = df[\"Avg Bearer TP DL (kbps)\"][-n:].tolist()\n",
    "\n",
    "    \n",
    "tcp_tcp_values"
   ]
  },
  {
   "cell_type": "code",
   "execution_count": 98,
   "metadata": {},
   "outputs": [
    {
     "data": {
      "text/plain": [
       "[27.0, 37.0, 46.0, nan, 313.0, 32.0, 27.0, 43.0, 37.0, nan]"
      ]
     },
     "execution_count": 98,
     "metadata": {},
     "output_type": "execute_result"
    }
   ],
   "source": [
    "n = 10\n",
    "\n",
    "rtt_values = df[\"Avg RTT DL (ms)\"][-n:].tolist()\n",
    "\n",
    "    \n",
    "rtt_values"
   ]
  },
  {
   "cell_type": "markdown",
   "metadata": {},
   "source": [
    "# number of xDR sessions"
   ]
  },
  {
   "cell_type": "code",
   "execution_count": 6,
   "metadata": {},
   "outputs": [],
   "source": [
    "df = pd.DataFrame(data, columns= ['bearer id',\n",
    "'Start',\n",
    "'IMEI',\n",
    "'Dur. (ms).1',\n",
    "'Handset Manufacturer',\n",
    "'Handset Type',])\n"
   ]
  },
  {
   "cell_type": "code",
   "execution_count": 7,
   "metadata": {
    "scrolled": true
   },
   "outputs": [
    {
     "data": {
      "text/html": [
       "<div>\n",
       "<style scoped>\n",
       "    .dataframe tbody tr th:only-of-type {\n",
       "        vertical-align: middle;\n",
       "    }\n",
       "\n",
       "    .dataframe tbody tr th {\n",
       "        vertical-align: top;\n",
       "    }\n",
       "\n",
       "    .dataframe thead th {\n",
       "        text-align: right;\n",
       "    }\n",
       "</style>\n",
       "<table border=\"1\" class=\"dataframe\">\n",
       "  <thead>\n",
       "    <tr style=\"text-align: right;\">\n",
       "      <th></th>\n",
       "      <th>bearer id</th>\n",
       "      <th>Start</th>\n",
       "      <th>IMEI</th>\n",
       "      <th>Dur. (ms).1</th>\n",
       "      <th>Handset Manufacturer</th>\n",
       "      <th>Handset Type</th>\n",
       "    </tr>\n",
       "  </thead>\n",
       "  <tbody>\n",
       "    <tr>\n",
       "      <th>0</th>\n",
       "      <td>NaN</td>\n",
       "      <td>4/4/2019 12:01</td>\n",
       "      <td>3.552121e+13</td>\n",
       "      <td>1.823653e+09</td>\n",
       "      <td>Samsung</td>\n",
       "      <td>Samsung Galaxy A5 Sm-A520F</td>\n",
       "    </tr>\n",
       "    <tr>\n",
       "      <th>1</th>\n",
       "      <td>NaN</td>\n",
       "      <td>4/9/2019 13:04</td>\n",
       "      <td>3.579401e+13</td>\n",
       "      <td>1.365104e+09</td>\n",
       "      <td>Samsung</td>\n",
       "      <td>Samsung Galaxy J5 (Sm-J530)</td>\n",
       "    </tr>\n",
       "    <tr>\n",
       "      <th>2</th>\n",
       "      <td>NaN</td>\n",
       "      <td>4/9/2019 17:42</td>\n",
       "      <td>3.528151e+13</td>\n",
       "      <td>1.361763e+09</td>\n",
       "      <td>Samsung</td>\n",
       "      <td>Samsung Galaxy A8 (2018)</td>\n",
       "    </tr>\n",
       "    <tr>\n",
       "      <th>3</th>\n",
       "      <td>NaN</td>\n",
       "      <td>4/10/2019 0:31</td>\n",
       "      <td>3.535661e+13</td>\n",
       "      <td>1.321510e+09</td>\n",
       "      <td>undefined</td>\n",
       "      <td>undefined</td>\n",
       "    </tr>\n",
       "    <tr>\n",
       "      <th>4</th>\n",
       "      <td>NaN</td>\n",
       "      <td>4/12/2019 20:10</td>\n",
       "      <td>3.540701e+13</td>\n",
       "      <td>1.089009e+09</td>\n",
       "      <td>Samsung</td>\n",
       "      <td>Samsung Sm-G390F</td>\n",
       "    </tr>\n",
       "    <tr>\n",
       "      <th>...</th>\n",
       "      <td>...</td>\n",
       "      <td>...</td>\n",
       "      <td>...</td>\n",
       "      <td>...</td>\n",
       "      <td>...</td>\n",
       "      <td>...</td>\n",
       "    </tr>\n",
       "    <tr>\n",
       "      <th>149996</th>\n",
       "      <td>NaN</td>\n",
       "      <td>4/29/2019 7:28</td>\n",
       "      <td>3.548311e+13</td>\n",
       "      <td>8.123076e+07</td>\n",
       "      <td>Apple</td>\n",
       "      <td>Apple iPhone 8 Plus (A1897)</td>\n",
       "    </tr>\n",
       "    <tr>\n",
       "      <th>149997</th>\n",
       "      <td>NaN</td>\n",
       "      <td>4/29/2019 7:28</td>\n",
       "      <td>3.566051e+13</td>\n",
       "      <td>9.797070e+07</td>\n",
       "      <td>Apple</td>\n",
       "      <td>Apple iPhone Se (A1723)</td>\n",
       "    </tr>\n",
       "    <tr>\n",
       "      <th>149998</th>\n",
       "      <td>NaN</td>\n",
       "      <td>4/29/2019 7:28</td>\n",
       "      <td>3.572121e+13</td>\n",
       "      <td>9.824953e+07</td>\n",
       "      <td>Apple</td>\n",
       "      <td>Apple iPhone Xs (A2097)</td>\n",
       "    </tr>\n",
       "    <tr>\n",
       "      <th>149999</th>\n",
       "      <td>NaN</td>\n",
       "      <td>4/29/2019 7:28</td>\n",
       "      <td>8.618620e+13</td>\n",
       "      <td>9.791063e+07</td>\n",
       "      <td>Huawei</td>\n",
       "      <td>Huawei Fig-Lx1</td>\n",
       "    </tr>\n",
       "    <tr>\n",
       "      <th>150000</th>\n",
       "      <td>NaN</td>\n",
       "      <td>NaN</td>\n",
       "      <td>NaN</td>\n",
       "      <td>NaN</td>\n",
       "      <td>NaN</td>\n",
       "      <td>NaN</td>\n",
       "    </tr>\n",
       "  </tbody>\n",
       "</table>\n",
       "<p>150001 rows × 6 columns</p>\n",
       "</div>"
      ],
      "text/plain": [
       "        bearer id            Start          IMEI   Dur. (ms).1  \\\n",
       "0             NaN   4/4/2019 12:01  3.552121e+13  1.823653e+09   \n",
       "1             NaN   4/9/2019 13:04  3.579401e+13  1.365104e+09   \n",
       "2             NaN   4/9/2019 17:42  3.528151e+13  1.361763e+09   \n",
       "3             NaN   4/10/2019 0:31  3.535661e+13  1.321510e+09   \n",
       "4             NaN  4/12/2019 20:10  3.540701e+13  1.089009e+09   \n",
       "...           ...              ...           ...           ...   \n",
       "149996        NaN   4/29/2019 7:28  3.548311e+13  8.123076e+07   \n",
       "149997        NaN   4/29/2019 7:28  3.566051e+13  9.797070e+07   \n",
       "149998        NaN   4/29/2019 7:28  3.572121e+13  9.824953e+07   \n",
       "149999        NaN   4/29/2019 7:28  8.618620e+13  9.791063e+07   \n",
       "150000        NaN              NaN           NaN           NaN   \n",
       "\n",
       "       Handset Manufacturer                 Handset Type  \n",
       "0                   Samsung   Samsung Galaxy A5 Sm-A520F  \n",
       "1                   Samsung  Samsung Galaxy J5 (Sm-J530)  \n",
       "2                   Samsung     Samsung Galaxy A8 (2018)  \n",
       "3                 undefined                    undefined  \n",
       "4                   Samsung             Samsung Sm-G390F  \n",
       "...                     ...                          ...  \n",
       "149996                Apple  Apple iPhone 8 Plus (A1897)  \n",
       "149997                Apple      Apple iPhone Se (A1723)  \n",
       "149998                Apple      Apple iPhone Xs (A2097)  \n",
       "149999               Huawei               Huawei Fig-Lx1  \n",
       "150000                  NaN                          NaN  \n",
       "\n",
       "[150001 rows x 6 columns]"
      ]
     },
     "execution_count": 7,
     "metadata": {},
     "output_type": "execute_result"
    }
   ],
   "source": [
    "df"
   ]
  },
  {
   "cell_type": "code",
   "execution_count": 12,
   "metadata": {},
   "outputs": [
    {
     "data": {
      "text/plain": [
       "15691365831902.0"
      ]
     },
     "execution_count": 12,
     "metadata": {},
     "output_type": "execute_result"
    }
   ],
   "source": [
    "number_of_xdr = df['Dur. (ms).1'].sum()\n",
    "number_of_xdr"
   ]
  },
  {
   "cell_type": "code",
   "execution_count": 9,
   "metadata": {
    "scrolled": true
   },
   "outputs": [
    {
     "data": {
      "text/plain": [
       "bearer id                    0\n",
       "Start                   150000\n",
       "IMEI                    149429\n",
       "Dur. (ms).1             150000\n",
       "Handset Manufacturer    149429\n",
       "Handset Type            149429\n",
       "dtype: int64"
      ]
     },
     "execution_count": 9,
     "metadata": {},
     "output_type": "execute_result"
    }
   ],
   "source": [
    "df.count()"
   ]
  },
  {
   "cell_type": "code",
   "execution_count": 19,
   "metadata": {},
   "outputs": [
    {
     "data": {
      "text/plain": [
       "<AxesSubplot:>"
      ]
     },
     "execution_count": 19,
     "metadata": {},
     "output_type": "execute_result"
    },
    {
     "data": {
      "image/png": "[encoded data removed]",
      "text/plain": [
       "<Figure size 432x288 with 1 Axes>"
      ]
     },
     "metadata": {
      "needs_background": "light"
     },
     "output_type": "display_data"
    }
   ],
   "source": []
  },
  {
   "cell_type": "code",
   "execution_count": null,
   "metadata": {},
   "outputs": [],
   "source": []
  }
 ],
 "metadata": {
  "kernelspec": {
   "display_name": "Python 3",
   "language": "python",
   "name": "python3"
  },
  "language_info": {
   "codemirror_mode": {
    "name": "ipython",
    "version": 3
   },
   "file_extension": ".py",
   "mimetype": "text/x-python",
   "name": "python",
   "nbconvert_exporter": "python",
   "pygments_lexer": "ipython3",
   "version": "3.8.8"
  }
 },
 "nbformat": 4,
 "nbformat_minor": 4
}
